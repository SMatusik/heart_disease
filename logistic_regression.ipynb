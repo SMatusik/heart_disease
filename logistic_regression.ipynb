{
  "nbformat": 4,
  "nbformat_minor": 0,
  "metadata": {
    "colab": {
      "name": "logistic_regression.ipynb",
      "provenance": [],
      "collapsed_sections": [],
      "authorship_tag": "ABX9TyMGTUG3x1fQB3AbLX4mu3Af",
      "include_colab_link": true
    },
    "kernelspec": {
      "name": "python3",
      "display_name": "Python 3"
    }
  },
  "cells": [
    {
      "cell_type": "markdown",
      "metadata": {
        "id": "view-in-github",
        "colab_type": "text"
      },
      "source": [
        "<a href=\"https://colab.research.google.com/github/SMatusik/heart_disease/blob/main/logistic_regression.ipynb\" target=\"_parent\"><img src=\"https://colab.research.google.com/assets/colab-badge.svg\" alt=\"Open In Colab\"/></a>"
      ]
    },
    {
      "cell_type": "code",
      "metadata": {
        "id": "jd_IfJragaQO"
      },
      "source": [
        "# import bibliotek: numpy (obliczenia), pandas (manipulacja danymi), sklearn (machine learning), matplotlib (wykresy)\r\n",
        "import numpy as np\r\n",
        "import pandas as pd\r\n",
        "import sklearn\r\n",
        "import matplotlib.pyplot as plt"
      ],
      "execution_count": null,
      "outputs": []
    },
    {
      "cell_type": "code",
      "metadata": {
        "id": "mC299Qy9guGE"
      },
      "source": [
        "# odczyt pliku csv \r\n",
        "df_raw = pd.read_csv('data.csv')\r\n",
        "df = df_raw.copy()"
      ],
      "execution_count": null,
      "outputs": []
    },
    {
      "cell_type": "code",
      "metadata": {
        "colab": {
          "base_uri": "https://localhost:8080/"
        },
        "id": "PpwCM2DEguMe",
        "outputId": "2fc2d6f7-7706-422b-d85f-0b65c7285381"
      },
      "source": [
        "# wyswietlenie informacji o kolumnach pobranych danych\r\n",
        "df.info()"
      ],
      "execution_count": null,
      "outputs": [
        {
          "output_type": "stream",
          "text": [
            "<class 'pandas.core.frame.DataFrame'>\n",
            "RangeIndex: 294 entries, 0 to 293\n",
            "Data columns (total 14 columns):\n",
            " #   Column   Non-Null Count  Dtype  \n",
            "---  ------   --------------  -----  \n",
            " 0   age      294 non-null    int64  \n",
            " 1   sex      294 non-null    int64  \n",
            " 2   cp       294 non-null    int64  \n",
            " 3   trestps  294 non-null    object \n",
            " 4   chol     294 non-null    object \n",
            " 5   fbs      294 non-null    object \n",
            " 6   restecg  294 non-null    object \n",
            " 7   thalach  294 non-null    object \n",
            " 8   exang    294 non-null    object \n",
            " 9   oldpeak  294 non-null    float64\n",
            " 10  slope    294 non-null    object \n",
            " 11  ca       294 non-null    object \n",
            " 12  thal     294 non-null    object \n",
            " 13  num      294 non-null    int64  \n",
            "dtypes: float64(1), int64(4), object(9)\n",
            "memory usage: 32.3+ KB\n"
          ],
          "name": "stdout"
        }
      ]
    },
    {
      "cell_type": "code",
      "metadata": {
        "colab": {
          "base_uri": "https://localhost:8080/",
          "height": 202
        },
        "id": "I0MYQedGg2q0",
        "outputId": "dd81a77c-ae95-4a51-c2cc-1da18d1cbac5"
      },
      "source": [
        "# wyswietlenie pierwszych pięciu wierszy obiektu df. Warto zauwazyć, że brakuje niektórych danych, jednak nie są oznaczone jako null\r\n",
        "df.head()"
      ],
      "execution_count": null,
      "outputs": [
        {
          "output_type": "execute_result",
          "data": {
            "text/html": [
              "<div>\n",
              "<style scoped>\n",
              "    .dataframe tbody tr th:only-of-type {\n",
              "        vertical-align: middle;\n",
              "    }\n",
              "\n",
              "    .dataframe tbody tr th {\n",
              "        vertical-align: top;\n",
              "    }\n",
              "\n",
              "    .dataframe thead th {\n",
              "        text-align: right;\n",
              "    }\n",
              "</style>\n",
              "<table border=\"1\" class=\"dataframe\">\n",
              "  <thead>\n",
              "    <tr style=\"text-align: right;\">\n",
              "      <th></th>\n",
              "      <th>age</th>\n",
              "      <th>sex</th>\n",
              "      <th>cp</th>\n",
              "      <th>trestps</th>\n",
              "      <th>chol</th>\n",
              "      <th>fbs</th>\n",
              "      <th>restecg</th>\n",
              "      <th>thalach</th>\n",
              "      <th>exang</th>\n",
              "      <th>oldpeak</th>\n",
              "      <th>slope</th>\n",
              "      <th>ca</th>\n",
              "      <th>thal</th>\n",
              "      <th>num</th>\n",
              "    </tr>\n",
              "  </thead>\n",
              "  <tbody>\n",
              "    <tr>\n",
              "      <th>0</th>\n",
              "      <td>28</td>\n",
              "      <td>1</td>\n",
              "      <td>2</td>\n",
              "      <td>130</td>\n",
              "      <td>132</td>\n",
              "      <td>0</td>\n",
              "      <td>2</td>\n",
              "      <td>185</td>\n",
              "      <td>0</td>\n",
              "      <td>0.0</td>\n",
              "      <td>?</td>\n",
              "      <td>?</td>\n",
              "      <td>?</td>\n",
              "      <td>0</td>\n",
              "    </tr>\n",
              "    <tr>\n",
              "      <th>1</th>\n",
              "      <td>29</td>\n",
              "      <td>1</td>\n",
              "      <td>2</td>\n",
              "      <td>120</td>\n",
              "      <td>243</td>\n",
              "      <td>0</td>\n",
              "      <td>0</td>\n",
              "      <td>160</td>\n",
              "      <td>0</td>\n",
              "      <td>0.0</td>\n",
              "      <td>?</td>\n",
              "      <td>?</td>\n",
              "      <td>?</td>\n",
              "      <td>0</td>\n",
              "    </tr>\n",
              "    <tr>\n",
              "      <th>2</th>\n",
              "      <td>29</td>\n",
              "      <td>1</td>\n",
              "      <td>2</td>\n",
              "      <td>140</td>\n",
              "      <td>?</td>\n",
              "      <td>0</td>\n",
              "      <td>0</td>\n",
              "      <td>170</td>\n",
              "      <td>0</td>\n",
              "      <td>0.0</td>\n",
              "      <td>?</td>\n",
              "      <td>?</td>\n",
              "      <td>?</td>\n",
              "      <td>0</td>\n",
              "    </tr>\n",
              "    <tr>\n",
              "      <th>3</th>\n",
              "      <td>30</td>\n",
              "      <td>0</td>\n",
              "      <td>1</td>\n",
              "      <td>170</td>\n",
              "      <td>237</td>\n",
              "      <td>0</td>\n",
              "      <td>1</td>\n",
              "      <td>170</td>\n",
              "      <td>0</td>\n",
              "      <td>0.0</td>\n",
              "      <td>?</td>\n",
              "      <td>?</td>\n",
              "      <td>6</td>\n",
              "      <td>0</td>\n",
              "    </tr>\n",
              "    <tr>\n",
              "      <th>4</th>\n",
              "      <td>31</td>\n",
              "      <td>0</td>\n",
              "      <td>2</td>\n",
              "      <td>100</td>\n",
              "      <td>219</td>\n",
              "      <td>0</td>\n",
              "      <td>1</td>\n",
              "      <td>150</td>\n",
              "      <td>0</td>\n",
              "      <td>0.0</td>\n",
              "      <td>?</td>\n",
              "      <td>?</td>\n",
              "      <td>?</td>\n",
              "      <td>0</td>\n",
              "    </tr>\n",
              "  </tbody>\n",
              "</table>\n",
              "</div>"
            ],
            "text/plain": [
              "   age  sex  cp trestps chol fbs  ... exang oldpeak slope  ca thal num\n",
              "0   28    1   2     130  132   0  ...     0     0.0     ?   ?    ?   0\n",
              "1   29    1   2     120  243   0  ...     0     0.0     ?   ?    ?   0\n",
              "2   29    1   2     140    ?   0  ...     0     0.0     ?   ?    ?   0\n",
              "3   30    0   1     170  237   0  ...     0     0.0     ?   ?    6   0\n",
              "4   31    0   2     100  219   0  ...     0     0.0     ?   ?    ?   0\n",
              "\n",
              "[5 rows x 14 columns]"
            ]
          },
          "metadata": {
            "tags": []
          },
          "execution_count": 316
        }
      ]
    },
    {
      "cell_type": "code",
      "metadata": {
        "id": "OtdPChadifwS"
      },
      "source": [
        "# zamiana wartosci '?' na null\r\n",
        "df = df.replace('?', np.nan)"
      ],
      "execution_count": null,
      "outputs": []
    },
    {
      "cell_type": "code",
      "metadata": {
        "colab": {
          "base_uri": "https://localhost:8080/"
        },
        "id": "E9Z93MyGkXTI",
        "outputId": "9946f1f8-4629-494c-cb6d-6cdf408db2fc"
      },
      "source": [
        "# ponowne wyswietlenie informacji o obiekcie - widac, ze wiele jest wartosci typu null\r\n",
        "df.info()"
      ],
      "execution_count": null,
      "outputs": [
        {
          "output_type": "stream",
          "text": [
            "<class 'pandas.core.frame.DataFrame'>\n",
            "RangeIndex: 294 entries, 0 to 293\n",
            "Data columns (total 14 columns):\n",
            " #   Column   Non-Null Count  Dtype  \n",
            "---  ------   --------------  -----  \n",
            " 0   age      294 non-null    int64  \n",
            " 1   sex      294 non-null    int64  \n",
            " 2   cp       294 non-null    int64  \n",
            " 3   trestps  293 non-null    object \n",
            " 4   chol     271 non-null    object \n",
            " 5   fbs      286 non-null    object \n",
            " 6   restecg  293 non-null    object \n",
            " 7   thalach  293 non-null    object \n",
            " 8   exang    293 non-null    object \n",
            " 9   oldpeak  294 non-null    float64\n",
            " 10  slope    104 non-null    object \n",
            " 11  ca       3 non-null      object \n",
            " 12  thal     28 non-null     object \n",
            " 13  num      294 non-null    int64  \n",
            "dtypes: float64(1), int64(4), object(9)\n",
            "memory usage: 32.3+ KB\n"
          ],
          "name": "stdout"
        }
      ]
    },
    {
      "cell_type": "markdown",
      "metadata": {
        "id": "S6KWBFM_wc__"
      },
      "source": [
        "Opis zmiennych (za: http://archive.ics.uci.edu/ml/datasets/Heart+Disease):\r\n",
        "1. age - wiek w latach\r\n",
        "2. sex - płeć (1 - mężczyzna, 0 - kobieta)\r\n",
        "3. cp - typ bólu w klatce piersiowej (1 - typowa dusznica, 2 - nietypowa dusznica, 3 - ból niezwiązany z dusznicą, 4 - brak objawów).\r\n",
        "4. trestps - spoczynkowe ciśnienie krwi (w mmHg)\r\n",
        "5. chol - cholesterol w mg/dl\r\n",
        "6. fbs - wartość cukru we krwi na czczo (1 - większy niż 120mg/dl, 0 - mniejszy)\r\n",
        "7. restecg - wyniki elektrokardiografu (0 - OK, 1 - anomalie fali ST oraz T, 2 - zwężenie lewej komory serca)\r\n",
        "8. thalach - maksymalny puls \r\n",
        "9. exang -  czy ćwiczenia spodowoały dusznicę (1 - tak, 0 - nie)\r\n",
        "10. oldpeak - obniżenie odcinka ST (1 - nie OK, 0 - OK)\r\n",
        "11. slope - nachylenie odcinka ST (1 - narastające, 2 - płaskie, 3 - spadające)\r\n",
        "12. ca - ilosc większych naczyń krwionośnycych pokolorowanych przez fluoroskopię. (0-3)\r\n",
        "13. thal - niedokrwistość tarcznikowata (3 - normalna, 6 - stały defekt, 7 - uleczalny defekt).\r\n",
        "14. num - diagnoza choroby serca (0 - < 50% zwężenia średnicy, 1 - > 50%).\r\n"
      ]
    },
    {
      "cell_type": "code",
      "metadata": {
        "id": "Y8UGQUI60r5N"
      },
      "source": [
        "# wyrzucennie kolumn, które nie zawierają informacji dla >50% pacjentów.\r\n",
        "df = df.drop(['slope', 'ca', 'thal'], axis=1)\r\n"
      ],
      "execution_count": null,
      "outputs": []
    },
    {
      "cell_type": "code",
      "metadata": {
        "colab": {
          "base_uri": "https://localhost:8080/"
        },
        "id": "FP4KAjB21C5V",
        "outputId": "559ebd39-9011-426f-c72a-7622919e9a9c"
      },
      "source": [
        "df.info()"
      ],
      "execution_count": null,
      "outputs": [
        {
          "output_type": "stream",
          "text": [
            "<class 'pandas.core.frame.DataFrame'>\n",
            "RangeIndex: 294 entries, 0 to 293\n",
            "Data columns (total 11 columns):\n",
            " #   Column   Non-Null Count  Dtype  \n",
            "---  ------   --------------  -----  \n",
            " 0   age      294 non-null    int64  \n",
            " 1   sex      294 non-null    int64  \n",
            " 2   cp       294 non-null    int64  \n",
            " 3   trestps  293 non-null    object \n",
            " 4   chol     271 non-null    object \n",
            " 5   fbs      286 non-null    object \n",
            " 6   restecg  293 non-null    object \n",
            " 7   thalach  293 non-null    object \n",
            " 8   exang    293 non-null    object \n",
            " 9   oldpeak  294 non-null    float64\n",
            " 10  num      294 non-null    int64  \n",
            "dtypes: float64(1), int64(4), object(6)\n",
            "memory usage: 25.4+ KB\n"
          ],
          "name": "stdout"
        }
      ]
    },
    {
      "cell_type": "code",
      "metadata": {
        "colab": {
          "base_uri": "https://localhost:8080/"
        },
        "id": "QDhtvKOd1gli",
        "outputId": "5599bc02-052a-4f4a-c2a7-106de2bb497d"
      },
      "source": [
        "# zamiana danych z typu object na typ float64\r\n",
        "object_cols = [col for col in df.columns if df[col].dtype == 'object']\r\n",
        "for col in object_cols:\r\n",
        "  df[col] = df[col].astype('float')\r\n",
        "\r\n",
        "df.info()"
      ],
      "execution_count": null,
      "outputs": [
        {
          "output_type": "stream",
          "text": [
            "<class 'pandas.core.frame.DataFrame'>\n",
            "RangeIndex: 294 entries, 0 to 293\n",
            "Data columns (total 11 columns):\n",
            " #   Column   Non-Null Count  Dtype  \n",
            "---  ------   --------------  -----  \n",
            " 0   age      294 non-null    int64  \n",
            " 1   sex      294 non-null    int64  \n",
            " 2   cp       294 non-null    int64  \n",
            " 3   trestps  293 non-null    float64\n",
            " 4   chol     271 non-null    float64\n",
            " 5   fbs      286 non-null    float64\n",
            " 6   restecg  293 non-null    float64\n",
            " 7   thalach  293 non-null    float64\n",
            " 8   exang    293 non-null    float64\n",
            " 9   oldpeak  294 non-null    float64\n",
            " 10  num      294 non-null    int64  \n",
            "dtypes: float64(7), int64(4)\n",
            "memory usage: 25.4 KB\n"
          ],
          "name": "stdout"
        }
      ]
    },
    {
      "cell_type": "code",
      "metadata": {
        "id": "y2bAhivr1C8O"
      },
      "source": [
        "# uzupełnienie brakujących danych (w przypadku danych 0-1 uzupełnimy najczęściej uzupełnianą wartością, w przypadku danych liczbowych - wartością średnią).\r\n",
        "trestps_mean = int(df['trestps'].mean())\r\n",
        "chol_mean = int(df['chol'].mean())\r\n",
        "thalach_mean = int(df['thalach'].mean())\r\n",
        "\r\n",
        "\r\n",
        "fbs_mode = int(df['fbs'].mode())\r\n",
        "restecg_mode = int(df['restecg'].mode())\r\n",
        "exang_mode = int(df['exang'].mode())\r\n",
        "\r\n",
        "df['trestps'].fillna(trestps_mean, inplace=True)\r\n",
        "df['chol'].fillna(chol_mean, inplace=True)\r\n",
        "df['thalach'].fillna(thalach_mean, inplace=True)\r\n",
        "\r\n",
        "df['fbs'].fillna(fbs_mode, inplace=True)\r\n",
        "df['restecg'].fillna(restecg_mode, inplace=True)\r\n",
        "df['exang'].fillna(exang_mode, inplace=True)"
      ],
      "execution_count": null,
      "outputs": []
    },
    {
      "cell_type": "code",
      "metadata": {
        "colab": {
          "base_uri": "https://localhost:8080/"
        },
        "id": "hJ3IKDpy_Y0U",
        "outputId": "41307c90-1181-4167-f1c8-41cd643cf36c"
      },
      "source": [
        "# sprawdzenie czy wszystkie dane zostały uzupelnione\r\n",
        "df.info()"
      ],
      "execution_count": null,
      "outputs": [
        {
          "output_type": "stream",
          "text": [
            "<class 'pandas.core.frame.DataFrame'>\n",
            "RangeIndex: 294 entries, 0 to 293\n",
            "Data columns (total 11 columns):\n",
            " #   Column   Non-Null Count  Dtype  \n",
            "---  ------   --------------  -----  \n",
            " 0   age      294 non-null    int64  \n",
            " 1   sex      294 non-null    int64  \n",
            " 2   cp       294 non-null    int64  \n",
            " 3   trestps  294 non-null    float64\n",
            " 4   chol     294 non-null    float64\n",
            " 5   fbs      294 non-null    float64\n",
            " 6   restecg  294 non-null    float64\n",
            " 7   thalach  294 non-null    float64\n",
            " 8   exang    294 non-null    float64\n",
            " 9   oldpeak  294 non-null    float64\n",
            " 10  num      294 non-null    int64  \n",
            "dtypes: float64(7), int64(4)\n",
            "memory usage: 25.4 KB\n"
          ],
          "name": "stdout"
        }
      ]
    },
    {
      "cell_type": "code",
      "metadata": {
        "id": "O4Ndnswt-s_I"
      },
      "source": [
        "# zamiana danych na typ float\r\n",
        "int_cols = [col for col in df.columns if df[col].dtype == 'int']\r\n",
        "for col in int_cols:\r\n",
        "  df[col] = df[col].astype('float')"
      ],
      "execution_count": null,
      "outputs": []
    },
    {
      "cell_type": "code",
      "metadata": {
        "colab": {
          "base_uri": "https://localhost:8080/"
        },
        "id": "K9OZ_Ff-87-G",
        "outputId": "de6fe126-3c55-45a4-e8ff-093463ef9bb1"
      },
      "source": [
        "df.info()"
      ],
      "execution_count": null,
      "outputs": [
        {
          "output_type": "stream",
          "text": [
            "<class 'pandas.core.frame.DataFrame'>\n",
            "RangeIndex: 294 entries, 0 to 293\n",
            "Data columns (total 11 columns):\n",
            " #   Column   Non-Null Count  Dtype  \n",
            "---  ------   --------------  -----  \n",
            " 0   age      294 non-null    float64\n",
            " 1   sex      294 non-null    float64\n",
            " 2   cp       294 non-null    float64\n",
            " 3   trestps  294 non-null    float64\n",
            " 4   chol     294 non-null    float64\n",
            " 5   fbs      294 non-null    float64\n",
            " 6   restecg  294 non-null    float64\n",
            " 7   thalach  294 non-null    float64\n",
            " 8   exang    294 non-null    float64\n",
            " 9   oldpeak  294 non-null    float64\n",
            " 10  num      294 non-null    float64\n",
            "dtypes: float64(11)\n",
            "memory usage: 25.4 KB\n"
          ],
          "name": "stdout"
        }
      ]
    },
    {
      "cell_type": "code",
      "metadata": {
        "id": "w7Xl1ZgRA7Wm"
      },
      "source": [
        "# podzielenie na dane opisujące i dane opisywane. Kolumna 'num' bedzie zawierała dane ktore będziemy chcieli przewidzieć\r\n",
        "data = df.copy()\r\n",
        "target = data.pop('num')\r\n"
      ],
      "execution_count": null,
      "outputs": []
    },
    {
      "cell_type": "code",
      "metadata": {
        "id": "T5hMjWSTBJns"
      },
      "source": [
        "# import klasy train_test_split, ktora automatycznie podzieli dane na dane treningowe i testowe\r\n",
        "from sklearn.model_selection import train_test_split\r\n",
        "\r\n",
        "X_train, X_test, Y_train, Y_test = train_test_split(data, target, test_size=0.1)\r\n"
      ],
      "execution_count": null,
      "outputs": []
    },
    {
      "cell_type": "code",
      "metadata": {
        "id": "T-EF0_ROCKYQ"
      },
      "source": [
        "# zaimportowanie klasy z scikit o nazwie LogisticRegression i utworzenie obiektu tej klasy\r\n",
        "from sklearn.linear_model import LogisticRegression\r\n",
        "\r\n",
        "logistic_regressor = LogisticRegression()\r\n"
      ],
      "execution_count": null,
      "outputs": []
    },
    {
      "cell_type": "code",
      "metadata": {
        "id": "7WmkEWEWCwf6"
      },
      "source": [
        "# import klasy StandardScaler, ktora sluzy do przeskalowania danych, tak aby średnia ich rozkłądu była równa 0, a odchylenie standardowe równe 1\r\n",
        "# standaryzacja dopasowywana jest do danych treningowych, a następnie wg obliczonych wspolczynników standaryzujemy dane testowe\r\n",
        "from sklearn.preprocessing import StandardScaler\r\n",
        "\r\n",
        "scaler = StandardScaler()\r\n",
        "\r\n",
        "scaler.fit(X_train)\r\n",
        "\r\n",
        "X_train = scaler.transform(X_train)\r\n",
        "X_test = scaler.transform(X_test)"
      ],
      "execution_count": null,
      "outputs": []
    },
    {
      "cell_type": "code",
      "metadata": {
        "colab": {
          "base_uri": "https://localhost:8080/"
        },
        "id": "T0w5FJNECWzC",
        "outputId": "25897164-afb7-4a07-b1b2-e29de969a7c6"
      },
      "source": [
        "# metoda uczaca regresor dla danych treningowych\r\n",
        "logistic_regressor.fit(X_train, Y_train)"
      ],
      "execution_count": null,
      "outputs": [
        {
          "output_type": "execute_result",
          "data": {
            "text/plain": [
              "LogisticRegression(C=1.0, class_weight=None, dual=False, fit_intercept=True,\n",
              "                   intercept_scaling=1, l1_ratio=None, max_iter=100,\n",
              "                   multi_class='auto', n_jobs=None, penalty='l2',\n",
              "                   random_state=None, solver='lbfgs', tol=0.0001, verbose=0,\n",
              "                   warm_start=False)"
            ]
          },
          "metadata": {
            "tags": []
          },
          "execution_count": 330
        }
      ]
    },
    {
      "cell_type": "code",
      "metadata": {
        "id": "U3oZOhveFWip"
      },
      "source": [
        "# utworzenie obiektu zawierającego decyzje regresora dla danych testowych\r\n",
        "Y_pred = logistic_regressor.predict(X_test)"
      ],
      "execution_count": null,
      "outputs": []
    },
    {
      "cell_type": "code",
      "metadata": {
        "colab": {
          "base_uri": "https://localhost:8080/",
          "height": 297
        },
        "id": "a49ifVfPFNkZ",
        "outputId": "f37f3c95-d12f-4772-f1d1-182879d413e5"
      },
      "source": [
        "# import bibliotek z sklearn oraz mlxtend sluzacych do narysowania macierzy pomyłek\r\n",
        "from sklearn.metrics import confusion_matrix\r\n",
        "from sklearn.metrics import accuracy_score\r\n",
        "from mlxtend.plotting import plot_confusion_matrix\r\n",
        "\r\n",
        "cm = confusion_matrix(Y_test, Y_pred)\r\n",
        "plot_confusion_matrix(cm)\r\n",
        "\r\n",
        "print(f'Accuracy: {accuracy_score(Y_test, Y_pred)}')"
      ],
      "execution_count": null,
      "outputs": [
        {
          "output_type": "stream",
          "text": [
            "Accuracy: 0.9\n"
          ],
          "name": "stdout"
        },
        {
          "output_type": "display_data",
          "data": {
            "image/png": "[encoded data removed]",
            "text/plain": [
              "<Figure size 432x288 with 1 Axes>"
            ]
          },
          "metadata": {
            "tags": [],
            "needs_background": "light"
          }
        }
      ]
    },
    {
      "cell_type": "code",
      "metadata": {
        "colab": {
          "base_uri": "https://localhost:8080/",
          "height": 350
        },
        "id": "IJbhndblKDxC",
        "outputId": "87a87bb7-ce1d-4f8e-819b-8b256e404695"
      },
      "source": [
        "# narysowanie wykresu danych pozytywnych (choroba serca) i negatywnych (brak choroby) w zależności od wieku\r\n",
        "plt.figure(figsize=(12, 5))\r\n",
        "plt.scatter(x= df['age'], y = df['num'], c= df['num'], cmap='RdYlGn')\r\n",
        "plt.title('Wykres zależności posiadania choroby serca w zależności od wieku')\r\n",
        "plt.xlabel('Wiek')\r\n",
        "plt.ylabel('Posiadanie choroby serca')\r\n",
        "plt.grid()\r\n",
        "plt.show()"
      ],
      "execution_count": null,
      "outputs": [
        {
          "output_type": "display_data",
          "data": {
            "image/png": "[encoded data removed]",
            "text/plain": [
              "<Figure size 864x360 with 1 Axes>"
            ]
          },
          "metadata": {
            "tags": [],
            "needs_background": "light"
          }
        }
      ]
    },
    {
      "cell_type": "code",
      "metadata": {
        "colab": {
          "base_uri": "https://localhost:8080/"
        },
        "id": "GSYsjnIKPi62",
        "outputId": "67df2e7b-54f4-49e6-9d2b-4d9aa1ac23e7"
      },
      "source": [
        "# wyliczenie metryk klasyfikacji modelu\r\n",
        "from sklearn.metrics import classification_report\r\n",
        "\r\n",
        "print(classification_report(Y_test, Y_pred))"
      ],
      "execution_count": null,
      "outputs": [
        {
          "output_type": "stream",
          "text": [
            "              precision    recall  f1-score   support\n",
            "\n",
            "         0.0       1.00      0.88      0.93        24\n",
            "         1.0       0.67      1.00      0.80         6\n",
            "\n",
            "    accuracy                           0.90        30\n",
            "   macro avg       0.83      0.94      0.87        30\n",
            "weighted avg       0.93      0.90      0.91        30\n",
            "\n"
          ],
          "name": "stdout"
        }
      ]
    }
  ]
}